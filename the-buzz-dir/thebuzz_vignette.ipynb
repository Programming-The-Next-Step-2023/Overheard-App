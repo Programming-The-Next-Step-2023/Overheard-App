{
 "cells": [
  {
   "attachments": {},
   "cell_type": "markdown",
   "metadata": {},
   "source": [
    "# __The Buzz__ \n",
    "\n",
    "_A News App built using the Streamlit library_\n",
    "\n",
    "* The app allows you to search for a specific amount of news articles (between a specific range, in this case 0 to 20) \n",
    "* between dates of your choice\n",
    "* Searches can be made through keywords / topics / country. \n",
    "\n",
    "__Current Issues:__\n",
    "* (!!) At the moment, you can only search with keywords\n",
    "* (!!) And can only search for articles in the current month/the same month as you currently are in\n",
    "\n",
    "__Vignette Guide__\n",
    "1. Screenshots of the app\n",
    "2. Code"
   ]
  },
  {
   "attachments": {},
   "cell_type": "markdown",
   "metadata": {},
   "source": []
  },
  {
   "attachments": {},
   "cell_type": "markdown",
   "metadata": {},
   "source": [
    "__ \n",
    "\n",
    "_A News App built using the Streamlit library_\n",
    "\n",
    "* The app allows you to search for a specific amount of news articles (between a specific range, in this case 0 to 20) \n",
    "* between dates of your choice\n",
    "* Searches can be made through keywords / topics / country. \n",
    "\n",
    "__Current Issues:__\n",
    "* (!!) At the moment, you can only search with keywords\n",
    "* (!!) And can only search for articles in the current month/the same month as you currently are in\n",
    "\n",
    "__Vignette Guide__\n",
    "1. Screenshots of the app\n",
    "2. Code"
   ]
  },
  {
   "attachments": {},
   "cell_type": "markdown",
   "metadata": {},
   "source": [
    "## __Part 1: Snippet of what the app currently looks like__\n",
    "\n",
    "* (!!) You can customise the theme by yourself - currently this is how I have customised it to look\n",
    "* __However, I plan to customise the theme in Python for the final version__"
   ]
  },
  {
   "attachments": {},
   "cell_type": "markdown",
   "metadata": {},
   "source": [
    "#### __Main Page__\n",
    "\n",
    "Here the user can enter the keyword, the dates, and number of articles they want. In this example, we will find 4 articles on \"Scholz\" (chancellor of Germany) between 16-24th May.\n",
    "\n",
    "![Alt text](vignette_1.png)"
   ]
  },
  {
   "attachments": {},
   "cell_type": "markdown",
   "metadata": {},
   "source": [
    "#### __Search results__\n",
    "\n",
    "Here are the search results. When possible, a photo will appear. If it is not in the right format, it is not possible to display the photo. \n",
    "\n",
    "![Alt text](vignette_2.png)\n",
    "\n",
    "![Alt text](vignette_3.png)"
   ]
  },
  {
   "attachments": {},
   "cell_type": "markdown",
   "metadata": {},
   "source": [
    "## __Part 2: Code__"
   ]
  },
  {
   "cell_type": "code",
   "execution_count": 4,
   "metadata": {},
   "outputs": [],
   "source": [
    "# Libraries\n",
    "\n",
    "import streamlit as st\n",
    "from streamlit import secrets\n",
    "import pandas as pd\n",
    "import numpy as np\n",
    "import requests\n",
    "import pycountry\n",
    "from PIL import Image\n",
    "# from config import NEWS_API_KEY"
   ]
  },
  {
   "attachments": {},
   "cell_type": "markdown",
   "metadata": {},
   "source": [
    "#### __App structure / skeleton__"
   ]
  },
  {
   "cell_type": "code",
   "execution_count": 5,
   "metadata": {},
   "outputs": [],
   "source": [
    "# App title\n",
    "title = st.title(\"What's buzzing today?\")\n",
    "\n",
    "# To have country and keyword boxes in one row:\n",
    "col1, col2 = st.columns(2)\n",
    "\n",
    "with col1: # country (still need to work on this)\n",
    "    country_name = st.text_input('Country name')\n",
    "\n",
    "with col2: # keyword\n",
    "    keyword = st.text_input('Keyword')\n",
    "\n",
    "# Making boxes for date inputs\n",
    "from_date = st.date_input('From which date') # date input on Streamlit only appears to go back to 2013\n",
    "to_date = st.date_input('To which date (enter a date only upto a month back!)')\n",
    "\n",
    "# To allow for people to select categories (multiple categories can be chosen with this)\n",
    "st.multiselect('Choose category', ['Business', 'Politics', 'Sports', 'Technology', 'Celebrities / Gossip'])\n",
    "\n",
    "# Slider - for people to choose how many articles they would like (between 0 to 20)\n",
    "range = st.slider('How many articles do you want?', 0, 20)\n",
    "\n",
    "# Just for fun :)\n",
    "agree = st.checkbox('I agree with the terms and conditions')"
   ]
  },
  {
   "attachments": {},
   "cell_type": "markdown",
   "metadata": {},
   "source": [
    "#### __Requesting from the News API__\n",
    "\n",
    "__Note about API key__: My own API key is stored in another file called `config.py`, and the key is imported from that file into this one, and saved as `NEWS_API_KEY`. This is done because the API key is sensitive and personal."
   ]
  },
  {
   "cell_type": "code",
   "execution_count": 6,
   "metadata": {},
   "outputs": [],
   "source": [
    "# First adding an enter button\n",
    "button1 = st.button('Enter')\n",
    "\n",
    "# Clicking this will lead to the request\n",
    "if button1:\n",
    "    # country = pycountry.countries.get(name=country_name).alpha_2\n",
    "    url = 'https://newsapi.org/v2/everything?' # News API endpoint\n",
    "    parameters = { \n",
    "    'q': keyword, # query phrase\n",
    "    'from': from_date,\n",
    "    'to': to_date,\n",
    "    'pageSize': range,  # maximum is 100 (range in my app is 0 to 20)\n",
    "    'apiKey': st.secrets[\"NEWS_API_KEY\"] # my API key\n",
    "    }\n",
    "    # what format does it return it in? if it's hard to get pics, then remove it\n",
    "    response = requests.get(url, params=parameters)\n",
    "    response_json = response.json()\n",
    "    articles = response_json['articles']\n",
    "    for article in articles:\n",
    "        st.header(article['title'])\n",
    "        st.write(\"Published at:\", article['publishedAt'])\n",
    "        #if article['author']:\n",
    "            # st.write(article['author'])\n",
    "        st.write(article['source']['name'])\n",
    "        # st.write(article['description'])\n",
    "        # st.image(article['urlToImage'])\n",
    "        if 'urlToImage' in article and article['urlToImage']:\n",
    "            try:\n",
    "                image = Image.open(requests.get(article['urlToImage'], stream=True).raw)\n",
    "                st.image(article['urlToImage'])\n",
    "            except:\n",
    "                st.write(\"Unable to display image.\") # italics?? colour?\n",
    "\n",
    "        st.write(article['content'])\n",
    "        st.markdown(f\"[Read full article]({article['url']})\")\n"
   ]
  },
  {
   "cell_type": "code",
   "execution_count": 7,
   "metadata": {},
   "outputs": [
    {
     "data": {
      "text/plain": [
       "DeltaGenerator()"
      ]
     },
     "execution_count": 7,
     "metadata": {},
     "output_type": "execute_result"
    }
   ],
   "source": [
    "# Adding some text at the end of the app\n",
    "st.text(\"For any issues please contact: nitya.shah@student.uva.nl\")\n"
   ]
  },
  {
   "attachments": {},
   "cell_type": "markdown",
   "metadata": {},
   "source": [
    "#### __How to run the app?__\n",
    "\n",
    "* To run the app locally, run all the code here (but you would need your own API key and save it in the same directory as this) --> in the terminal, type `streamlit run whatsnew_source.py` (or whatever your main source code file is called)\n",
    "* __Otherwise, in general, and what I plan to do too:__ deploy the app using Streamlit so I can make a shareable link :)"
   ]
  }
 ],
 "metadata": {
  "kernelspec": {
   "display_name": "Python 3",
   "language": "python",
   "name": "python3"
  },
  "language_info": {
   "codemirror_mode": {
    "name": "ipython",
    "version": 3
   },
   "file_extension": ".py",
   "mimetype": "text/x-python",
   "name": "python",
   "nbconvert_exporter": "python",
   "pygments_lexer": "ipython3",
   "version": "3.11.2"
  },
  "orig_nbformat": 4
 },
 "nbformat": 4,
 "nbformat_minor": 2
}
